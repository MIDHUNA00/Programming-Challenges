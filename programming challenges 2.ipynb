{
 "cells": [
  {
   "cell_type": "code",
   "execution_count": 1,
   "id": "88036b4d",
   "metadata": {},
   "outputs": [
    {
     "name": "stdout",
     "output_type": "stream",
     "text": [
      "Would you like some advice?\n",
      "H\n",
      "Please enter Y or N only\n",
      "Would you like some advice?\n",
      "N\n",
      "Don't be silly.You definitely need advice!\n",
      "Would you like some advice?\n",
      "Y\n",
      "Don't feed the trolls!\n"
     ]
    }
   ],
   "source": [
    "#40\n",
    "print(\"Would you like some advice?\")\n",
    "a=input()\n",
    "while a!=\"Y\":\n",
    "    if a==\"N\":\n",
    "        print(\"Don't be silly.You definitely need advice!\")\n",
    "        print(\"Would you like some advice?\")\n",
    "        a=input()\n",
    "    elif a!='Y' and a!='N':\n",
    "        print(\"Please enter Y or N only\")\n",
    "        print(\"Would you like some advice?\")\n",
    "        a=input()\n",
    "print(\"Don't feed the trolls!\")"
   ]
  },
  {
   "cell_type": "code",
   "execution_count": 1,
   "id": "26c59f89",
   "metadata": {},
   "outputs": [
    {
     "name": "stdout",
     "output_type": "stream",
     "text": [
      "Please enter the price of each present:\n",
      "35\n",
      "100\n",
      "50\n",
      "45\n",
      "limit exceeds\n",
      "You can't handle 45 present\n"
     ]
    }
   ],
   "source": [
    "#41\n",
    "\n",
    "print(\"Please enter the price of each present:\")\n",
    "sum=0\n",
    "while True:\n",
    "    a=int(input())\n",
    "    sum=sum+a\n",
    "    if sum>200:\n",
    "        print(\"limit exceeds\")\n",
    "        print(\"You can't handle\",a,\"present\")\n",
    "        break\n",
    "    else:\n",
    "        continue"
   ]
  },
  {
   "cell_type": "markdown",
   "id": "7bad1324",
   "metadata": {},
   "source": []
  },
  {
   "cell_type": "code",
   "execution_count": 10,
   "id": "1d5e64db",
   "metadata": {},
   "outputs": [
    {
     "name": "stdout",
     "output_type": "stream",
     "text": [
      "Enter your menu choice(Q,A,K or L)\n",
      "V\n",
      "V is not valid.enter Q,A,K,OR L\n",
      "L\n",
      "L selected\n"
     ]
    }
   ],
   "source": [
    "#42\n",
    "print(\"Enter your menu choice(Q,A,K or L)\")\n",
    "while True:\n",
    "    x=input()\n",
    "    y=x.upper()\n",
    "    if y=='A' or  y=='Q' or y=='K'  or y=='L':\n",
    "        print(y,\"selected\")\n",
    "        break\n",
    "    else:\n",
    "        print(y,\"is not valid.enter Q,A,K,OR L\")\n",
    "        continue\n",
    "        \n",
    "    \n",
    "    "
   ]
  },
  {
   "cell_type": "code",
   "execution_count": 14,
   "id": "cc6cffa6",
   "metadata": {},
   "outputs": [
    {
     "name": "stdout",
     "output_type": "stream",
     "text": [
      "Guess the hidden number between 1 and 100.\n",
      "Enter your guess.\n",
      "112\n",
      "Your guess was not valid.Enter it again.\n",
      "67\n",
      "Your guess is too high.Try again.\n",
      "50\n",
      "Your guess is too low.Try again.\n",
      "52\n",
      "Correct!Well Done.\n"
     ]
    }
   ],
   "source": [
    "print(\"Guess the hidden number between 1 and 100.\")\n",
    "print(\"Enter your guess.\")\n",
    "x=52\n",
    "while True:\n",
    "    a=int(input())\n",
    "    if a==x:\n",
    "        print(\"Correct!Well Done.\")\n",
    "        break\n",
    "    elif a>100:\n",
    "        print(\"Your guess was not valid.Enter it again.\")\n",
    "        continue\n",
    "        \n",
    "    elif a>x:\n",
    "        print(\"Your guess is too high.Try again.\")\n",
    "        continue\n",
    "    elif a<x:\n",
    "        print(\"Your guess is too low.Try again.\")\n",
    "        continue\n",
    "    elif a==x:\n",
    "        print(\"Correct!Well Done.\")\n",
    "        continue\n"
   ]
  },
  {
   "cell_type": "code",
   "execution_count": 37,
   "id": "28e2cd0b",
   "metadata": {},
   "outputs": [
    {
     "name": "stdout",
     "output_type": "stream",
     "text": [
      "Week 1\n",
      "Please enter the seven temperatures\n",
      "12\n",
      "14\n",
      "7\n",
      "6\n",
      "66\n",
      "Temperature should be between -40 and 55\n",
      "7\n",
      "11\n",
      "11\n",
      "Week 2\n",
      "Please enter the seven temperatures\n",
      "55\n",
      "22\n",
      "33\n",
      "44\n",
      "66\n",
      "Temperature should be between -40 and 55\n",
      "53\n",
      "33\n",
      "12\n",
      "Week 3\n",
      "Please enter the seven temperatures\n",
      "32\n",
      "31\n",
      "30\n",
      "38\n",
      "9\n",
      "10\n",
      "11\n",
      "Week 4\n",
      "Please enter the seven temperatures\n",
      "16\n",
      "19\n",
      "22\n",
      "23\n",
      "24\n",
      "25\n",
      "26\n",
      "Week 1 average was:\n",
      "9.71 degrees centigrade\n",
      "Week 2 average was:\n",
      "36.0 degrees centigrade\n",
      "Week 3 average was:\n",
      "23.0 degrees centigrade\n",
      "Week 4 average was:\n",
      "22.14 degrees centigrade\n"
     ]
    }
   ],
   "source": [
    "#44\n",
    "q=[]\n",
    "for loop in range(4):\n",
    "    print('Week',loop+1)\n",
    "    sum=0\n",
    "    print(\"Please enter the seven temperatures\")\n",
    "    for counter in range(7):\n",
    "            a=int(input())\n",
    "            if a>55 or a< -40:\n",
    "                print(\"Temperature should be between -40 and 55\")\n",
    "                a=int(input())\n",
    "            sum=sum+a\n",
    "    avg=sum/7\n",
    "    avg1=round(avg,2)\n",
    "    q.append(avg1)\n",
    "for i in range(4):\n",
    "    print('Week',i+1,'average was:')\n",
    "    print(q[i],'degrees centigrade')"
   ]
  },
  {
   "cell_type": "code",
   "execution_count": 41,
   "id": "45659de0",
   "metadata": {},
   "outputs": [
    {
     "name": "stdout",
     "output_type": "stream",
     "text": [
      "Please enter the scores for Player one\n",
      "34\n",
      "26\n",
      "200\n",
      "Invalid Score\n",
      "100\n",
      "Please enter the scores for Player two\n",
      "78\n",
      "80\n",
      "97\n",
      "Player one scored the highest individual score.\n",
      "Player one wins!!!\n"
     ]
    }
   ],
   "source": [
    "#45\n",
    "print('Please enter the scores for Player one')\n",
    "for i in range(3):\n",
    "    sum1=0\n",
    "    a=int(input())\n",
    "    if a<0 or a>180:\n",
    "        print(\"Invalid Score\")\n",
    "        a=int(input())\n",
    "    sum1=0+a\n",
    "print(\"Please enter the scores for Player two\")\n",
    "for j in range(3):\n",
    "    sum2=0\n",
    "    b=int(input())\n",
    "    if b<0 or b>180:\n",
    "        print(\"Invalid Score\")\n",
    "    sum2=0+b\n",
    "if sum1>sum2:\n",
    "    print(\"Player one scored the highest individual score.\")\n",
    "    print(\"Player one wins!!!\")\n",
    "elif sum2>sum1:\n",
    "    print(\"Player two scored the highest individual score.\")\n",
    "    print(\"Player two wins!!!\")\n",
    "    \n",
    "    \n",
    "    \n",
    "    "
   ]
  },
  {
   "cell_type": "code",
   "execution_count": null,
   "id": "f17f9dcd",
   "metadata": {},
   "outputs": [],
   "source": []
  },
  {
   "cell_type": "code",
   "execution_count": null,
   "id": "c5482ebb",
   "metadata": {},
   "outputs": [],
   "source": []
  }
 ],
 "metadata": {
  "kernelspec": {
   "display_name": "Python 3",
   "language": "python",
   "name": "python3"
  },
  "language_info": {
   "codemirror_mode": {
    "name": "ipython",
    "version": 3
   },
   "file_extension": ".py",
   "mimetype": "text/x-python",
   "name": "python",
   "nbconvert_exporter": "python",
   "pygments_lexer": "ipython3",
   "version": "3.8.8"
  }
 },
 "nbformat": 4,
 "nbformat_minor": 5
}
