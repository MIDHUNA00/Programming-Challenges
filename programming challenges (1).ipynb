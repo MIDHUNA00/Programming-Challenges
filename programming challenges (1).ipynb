{
 "cells": [
  {
   "cell_type": "code",
   "execution_count": 1,
   "id": "a6b5da9d",
   "metadata": {},
   "outputs": [
    {
     "name": "stdout",
     "output_type": "stream",
     "text": [
      "Please enter your name.Lister\n",
      "What is your age?39\n",
      "What is your favourite TV programme?Red Dwarf\n",
      "Lister\n",
      "is\n",
      "39\n",
      "years old and likes\n",
      "Red Dwarf\n"
     ]
    }
   ],
   "source": [
    "#1\n",
    "x=input(\"Please enter your name.\")\n",
    "y=int(input(\"What is your age?\"))\n",
    "z=input(\"What is your favourite TV programme?\")\n",
    "print(x)\n",
    "print(\"is\")\n",
    "print(y)\n",
    "print(\"years old and likes\")\n",
    "print(z)"
   ]
  },
  {
   "cell_type": "code",
   "execution_count": 2,
   "id": "292f626e",
   "metadata": {},
   "outputs": [
    {
     "name": "stdout",
     "output_type": "stream",
     "text": [
      "Please enter your first nameDavid\n",
      "Please enter your surnameTennant\n",
      "Tennant David\n"
     ]
    }
   ],
   "source": [
    "#2\n",
    "x=input('Please enter your first name')\n",
    "y=input('Please enter your surname')\n",
    "print(y,x)\n"
   ]
  },
  {
   "cell_type": "code",
   "execution_count": 1,
   "id": "d1faeb11",
   "metadata": {},
   "outputs": [
    {
     "name": "stdout",
     "output_type": "stream",
     "text": [
      "Please enter your name?Lister\n",
      "What is your age?39\n",
      "What is your favourite TV program?Red Dwarf\n",
      "Lister 39\n",
      "Likes watching Red Dwarf\n"
     ]
    }
   ],
   "source": [
    "#3\n",
    "x=input('Please enter your name?')\n",
    "y=int(input (\"What is your age?\"))\n",
    "z=input('What is your favourite TV program?')\n",
    "print(x,y)\n",
    "print('Likes watching',z)"
   ]
  },
  {
   "cell_type": "code",
   "execution_count": 2,
   "id": "ec22d4e3",
   "metadata": {},
   "outputs": [
    {
     "name": "stdout",
     "output_type": "stream",
     "text": [
      "letters1KY\n",
      "enter number18\n",
      "enter number29\n",
      "enter letters2HL\n",
      "KY8 9HL\n"
     ]
    }
   ],
   "source": [
    "#4\n",
    "letters1=input('letters1')\n",
    "number1=input('enter number1')\n",
    "number2=input('enter number2')\n",
    "letters2=input('enter letters2')\n",
    "print(letters1+number1+' '+number2+letters2)"
   ]
  },
  {
   "cell_type": "code",
   "execution_count": 3,
   "id": "2df121ff",
   "metadata": {},
   "outputs": [
    {
     "name": "stdout",
     "output_type": "stream",
     "text": [
      "Please enter the following values in cm.\n",
      "Please enter the length of the rectangle12\n",
      "Please enter the width of the rectangle.6\n",
      "The area of the rectangle is:\n",
      "72 square centimeters\n"
     ]
    }
   ],
   "source": [
    "#5\n",
    "print('Please enter the following values in cm.')\n",
    "x=int(input('Please enter the length of the rectangle'))\n",
    "y=int(input(\"Please enter the width of the rectangle.\"))\n",
    "print(\"The area of the rectangle is:\")\n",
    "print(x*y,\"square centimeters\")"
   ]
  },
  {
   "cell_type": "code",
   "execution_count": 5,
   "id": "4b9438b5",
   "metadata": {},
   "outputs": [
    {
     "name": "stdout",
     "output_type": "stream",
     "text": [
      "Please enter an integer between 0 and 92\n",
      "Please enter an integer between 0 and 96\n",
      "26\n"
     ]
    }
   ],
   "source": [
    "#6\n",
    "x=input('Please enter an integer between 0 and 9')\n",
    "y=input('Please enter an integer between 0 and 9')\n",
    "total=x+y\n",
    "print(total)"
   ]
  },
  {
   "cell_type": "code",
   "execution_count": 8,
   "id": "22be091e",
   "metadata": {},
   "outputs": [
    {
     "name": "stdout",
     "output_type": "stream",
     "text": [
      "letter1KY\n",
      "number18\n",
      "number29\n",
      "letter2hl\n",
      "KY8 9HL\n"
     ]
    }
   ],
   "source": [
    "#7\n",
    "letter1=input(\"letter1\")\n",
    "number1=input('number1')\n",
    "number2=input('number2')\n",
    "letter2=input('letter2')\n",
    "print(letter1+number1+' '+number2+letter2.upper())\n"
   ]
  },
  {
   "cell_type": "code",
   "execution_count": 9,
   "id": "98804863",
   "metadata": {},
   "outputs": [
    {
     "name": "stdout",
     "output_type": "stream",
     "text": [
      "Please enter your forename:David\n",
      "Please enter your surname:Stott\n",
      "There are 10 letters in your name.\n"
     ]
    }
   ],
   "source": [
    "#8\n",
    "x=input(\"Please enter your forename:\")\n",
    "y=input(\"Please enter your surname:\")\n",
    "a=len(x)\n",
    "b=len(y)\n",
    "z=a+b\n",
    "print(\"There are\",z,\"letters in your name.\")"
   ]
  },
  {
   "cell_type": "code",
   "execution_count": 1,
   "id": "cf7dc6d5",
   "metadata": {},
   "outputs": [
    {
     "name": "stdout",
     "output_type": "stream",
     "text": [
      "Please enter a sentence of your choiceLuke, I am your father\n",
      "Your sentence contained the following:\n",
      "a = 2\n",
      "e= 2\n",
      "i= 1\n",
      "o= 1\n",
      "u= 2\n",
      "This is a total of  8 vowels.\n"
     ]
    }
   ],
   "source": [
    "#9\n",
    "y=input('Please enter a sentence of your choice')\n",
    "a=y.count('a')+y.count('A')\n",
    "e=y.count('e')+y.count('E')\n",
    "i=y.count('i')+y.count('I')\n",
    "o=y.count('o')+y.count('O')\n",
    "u=y.count('u')+y.count('U')\n",
    "x=a+e+i+o+u\n",
    "print(\"Your sentence contained the following:\")\n",
    "print('a =',a)\n",
    "print('e=',e)\n",
    "print('i=',i)\n",
    "print('o=',o)\n",
    "print('u=',u)\n",
    "print('This is a total of ',x,'vowels.')"
   ]
  },
  {
   "cell_type": "code",
   "execution_count": 1,
   "id": "2d2bd3e2",
   "metadata": {},
   "outputs": [
    {
     "name": "stdout",
     "output_type": "stream",
     "text": [
      "Please enter the male reportHe should always ensure that his answers contain as much detail as possible\n",
      "The female comment is:\n",
      "He should always ensure that his answers contain as much detail as possible\n"
     ]
    }
   ],
   "source": [
    "#10\n",
    "a=input('Please enter the male report')\n",
    "b=a.replace('his','her')\n",
    "b=a.replace('he','she')\n",
    "print(\"The female comment is:\")\n",
    "print(b)"
   ]
  },
  {
   "cell_type": "code",
   "execution_count": 7,
   "id": "9f614f7e",
   "metadata": {},
   "outputs": [
    {
     "name": "stdout",
     "output_type": "stream",
     "text": [
      "Pleease enter the product name.Plaza Beans\n",
      "Please enter the year.2016\n",
      "The stock code for Plaza Beans is :\n",
      "Plns26\n"
     ]
    }
   ],
   "source": [
    "#11\n",
    "a=input('Pleease enter the product name.')\n",
    "b=input('Please enter the year.')\n",
    "c=a[0:2]+a[-2:]+b[0]+b[-1]\n",
    "print('The stock code for',a,'is :')\n",
    "print(c)"
   ]
  },
  {
   "cell_type": "code",
   "execution_count": 14,
   "id": "e7be8e29",
   "metadata": {},
   "outputs": [
    {
     "name": "stdout",
     "output_type": "stream",
     "text": [
      "Please enter your three costs.12.78\n",
      "6.32\n",
      "34.99\n",
      "The total cost is 54.09\n",
      "The auction companies fee is $ 5.0\n"
     ]
    }
   ],
   "source": [
    "#12\n",
    "a=float(input('Please enter your three costs.'))\n",
    "b=float(input())\n",
    "c=float(input())\n",
    "d=a+b+c\n",
    "x=d/10\n",
    "y=round(x)\n",
    "z=float(y)\n",
    "print('The total cost is',d)\n",
    "print('The auction companies fee is $',z)"
   ]
  },
  {
   "cell_type": "code",
   "execution_count": 16,
   "id": "856f125d",
   "metadata": {},
   "outputs": [
    {
     "name": "stdout",
     "output_type": "stream",
     "text": [
      "Please enter the following value in cm.\n",
      "Please enter the radius of the circle16\n",
      "The area of the circle is:\n",
      "803.84 square centimeters\n"
     ]
    }
   ],
   "source": [
    "#13\n",
    "print('Please enter the following value in cm.')\n",
    "b=float(input('Please enter the radius of the circle'))\n",
    "c=3.14*b**2\n",
    "print('The area of the circle is:')\n",
    "print(c,'square centimeters')"
   ]
  },
  {
   "cell_type": "code",
   "execution_count": 17,
   "id": "9294b54b",
   "metadata": {},
   "outputs": [
    {
     "name": "stdout",
     "output_type": "stream",
     "text": [
      "Please enter the volume of the jar (cm3):2712.96\n",
      "Please enter the volume of one sweet(cm3):2.12\n",
      "1280.0 sweets fit into the jar.\n"
     ]
    }
   ],
   "source": [
    "#14\n",
    "a=float(input('Please enter the volume of the jar (cm3):'))\n",
    "b=float(input('Please enter the volume of one sweet(cm3):'))\n",
    "c=a/b\n",
    "d=round(c,0)\n",
    "print(d,'sweets fit into the jar.')"
   ]
  },
  {
   "cell_type": "code",
   "execution_count": 4,
   "id": "8b6cd1db",
   "metadata": {},
   "outputs": [
    {
     "name": "stdout",
     "output_type": "stream",
     "text": [
      "Enter the area in m2 to be painted.178\n",
      "Enter the area(m2) that a single pot covers.25\n",
      "You will need  8 pots of paint.\n",
      "You can paint 6.265599999999999 m2 with the leftover paint.\n"
     ]
    }
   ],
   "source": [
    "#15\n",
    "import math\n",
    "a=float(input('Enter the area in m2 to be painted.'))\n",
    "b=float(input('Enter the area(m2) that a single pot covers.'))\n",
    "c=a/b\n",
    "d=math.ceil(c)\n",
    "e=d-c\n",
    "f=e*c\n",
    "print('You will need ',d,'pots of paint.')\n",
    "print('You can paint',f,'m2 with the leftover paint.')"
   ]
  },
  {
   "cell_type": "code",
   "execution_count": 2,
   "id": "ac41bf83",
   "metadata": {},
   "outputs": [
    {
     "name": "stdout",
     "output_type": "stream",
     "text": [
      "Please enter the length of a brick in cm:20\n",
      "Please enter the length of the wall in m:9.89\n",
      "47 bricks build one row of wall.\n",
      "This is 2 cm short of the required wall length.\n"
     ]
    }
   ],
   "source": [
    "#16\n",
    "a=float(input('Please enter the length of a brick in cm:'))\n",
    "b=float(input('Please enter the length of the wall in m:'))\n",
    "c=b*100/(a+1)\n",
    "d=int(c)\n",
    "e=(b*100)-(d*(a+1))\n",
    "f=int(e)\n",
    "print(d,'bricks build one row of wall.')\n",
    "print('This is',f,'cm short of the required wall length.')"
   ]
  },
  {
   "cell_type": "code",
   "execution_count": 3,
   "id": "50b7fc5e",
   "metadata": {},
   "outputs": [
    {
     "name": "stdout",
     "output_type": "stream",
     "text": [
      "Enter the number of carbon atoms.3\n",
      "The atomic mass of C3H8 is 44\n"
     ]
    }
   ],
   "source": [
    "#17\n",
    "a=int(input('Enter the number of carbon atoms.'))\n",
    "b=(a*2)+2\n",
    "c=(a*12)+b\n",
    "print('The atomic mass of C3H8 is',c)\n"
   ]
  },
  {
   "cell_type": "code",
   "execution_count": 4,
   "id": "36636ca1",
   "metadata": {},
   "outputs": [
    {
     "name": "stdout",
     "output_type": "stream",
     "text": [
      "How many par 3 holes are there?6\n",
      "How many par 4 holes are there?10\n",
      "How many par 5 holes are there?2\n",
      "What is the difficulty adjustment for the course?-2\n",
      "The standard Scratch score for the course is:\n",
      "66\n"
     ]
    }
   ],
   "source": [
    "#18\n",
    "a=int(input('How many par 3 holes are there?'))\n",
    "b=int(input('How many par 4 holes are there?'))\n",
    "c=int(input('How many par 5 holes are there?'))\n",
    "d=int(input('What is the difficulty adjustment for the course?'))\n",
    "e=(a*3)+(b*4)+(c*5)\n",
    "f=e+d\n",
    "print('The standard Scratch score for the course is:')\n",
    "print(f)"
   ]
  },
  {
   "cell_type": "code",
   "execution_count": 5,
   "id": "77d12bc0",
   "metadata": {},
   "outputs": [
    {
     "name": "stdout",
     "output_type": "stream",
     "text": [
      "What is the circumference of your wheel in millimeters?1250\n",
      "How many wheel revolutions have taken place in your journey?8920\n",
      "How many minutes did you cycle for?30\n",
      "You covered 11.15 km.\n",
      "At an average speed of 22.3 kmh.\n"
     ]
    }
   ],
   "source": [
    "#19\n",
    "a=float(input('What is the circumference of your wheel in millimeters?'))\n",
    "b=int(input('How many wheel revolutions have taken place in your journey?'))\n",
    "c=float(input('How many minutes did you cycle for?'))\n",
    "d=(a*b)/(10**6)\n",
    "e=c/60\n",
    "f=d/e\n",
    "print('You covered',d,'km.')\n",
    "print('At an average speed of',f,'kmh.')"
   ]
  },
  {
   "cell_type": "code",
   "execution_count": 6,
   "id": "7b2f22e6",
   "metadata": {},
   "outputs": [
    {
     "name": "stdout",
     "output_type": "stream",
     "text": [
      "Would you like some advice?Y\n",
      "Always know where your towel is\n"
     ]
    }
   ],
   "source": [
    "#20\n",
    "x=input('Would you like some advice?')\n",
    "if x=='Y':\n",
    "    print('Always know where your towel is')"
   ]
  },
  {
   "cell_type": "code",
   "execution_count": 6,
   "id": "eb8b8bf6",
   "metadata": {},
   "outputs": [
    {
     "name": "stdout",
     "output_type": "stream",
     "text": [
      "What is Black's score?\n",
      "88\n",
      "What is White's score?\n",
      "84\n",
      "After 6.5 is added the score is:\n",
      "Black - 88\n",
      "White- 90.5\n",
      "White is the winner\n"
     ]
    }
   ],
   "source": [
    "#21\n",
    "print(\"What is Black's score?\")\n",
    "a=float(input())\n",
    "print(\"What is White's score?\")\n",
    "b=float(input())\n",
    "c=a\n",
    "d=b+6.5\n",
    "print(\"After 6.5 is added the score is:\")\n",
    "print(\"Black -\",int(c))\n",
    "print(\"White-\",d)\n",
    "if d>c:\n",
    "    print(\"White is the winner\")\n",
    "elif c>d:\n",
    "    print(\"Black is the winner\")\n",
    "else:\n",
    "    print(\"It is a draw\")\n"
   ]
  },
  {
   "cell_type": "code",
   "execution_count": 7,
   "id": "ff62a339",
   "metadata": {},
   "outputs": [
    {
     "name": "stdout",
     "output_type": "stream",
     "text": [
      "Please enter the first amount raised.\n",
      "398\n",
      "Please enter thr second amount raised.\n",
      "193\n",
      "Please enter the third amount raised.\n",
      "478\n",
      "A total of $ 1069 was raised\n",
      "This will be doubled to $ 2138\n"
     ]
    }
   ],
   "source": [
    "#22\n",
    "print(\"Please enter the first amount raised.\")\n",
    "a=int(input())\n",
    "print(\"Please enter thr second amount raised.\")\n",
    "b=int(input())\n",
    "print(\"Please enter the third amount raised.\")\n",
    "c=int(input())\n",
    "d=a+b+c\n",
    "e=2*d\n",
    "print(\"A total of $\",d,\"was raised\")\n",
    "if d>1000:\n",
    "    print('This will be doubled to $',e)"
   ]
  },
  {
   "cell_type": "code",
   "execution_count": 8,
   "id": "1cd15932",
   "metadata": {},
   "outputs": [
    {
     "name": "stdout",
     "output_type": "stream",
     "text": [
      "Rectangle 1\n",
      "Please enter the length:\n",
      "12\n",
      "Please enter the width:\n",
      "6\n",
      "Rectangle 2\n",
      "Please enter the length:\n",
      "7\n",
      "Please enter the width:\n",
      "9\n",
      "Rectangle 1 has the largest area\n"
     ]
    }
   ],
   "source": [
    "#23\n",
    "print(\"Rectangle 1\")\n",
    "print(\"Please enter the length:\")\n",
    "a=int(input())\n",
    "print(\"Please enter the width:\")\n",
    "b=int(input())\n",
    "print(\"Rectangle 2\")\n",
    "print(\"Please enter the length:\")\n",
    "c=int(input())\n",
    "print(\"Please enter the width:\")\n",
    "d=int(input())\n",
    "a1=a*b\n",
    "a2=c*d\n",
    "if a1>a2:\n",
    "    print(\"Rectangle 1 has the largest area\")\n",
    "elif a2>a1:\n",
    "    print(\"Rectangle 2 has the largest area\")\n",
    "else:\n",
    "    print(\"Rectangle1 and Rectangle2 has same area\")"
   ]
  },
  {
   "cell_type": "code",
   "execution_count": 10,
   "id": "97455e14",
   "metadata": {},
   "outputs": [
    {
     "name": "stdout",
     "output_type": "stream",
     "text": [
      "Enter sentence 1\n",
      "You can't handle the truth!\n",
      "Enter sentence 2\n",
      "Houston, we have a problem.\n",
      "The percentage of vowels in sentence1 is: 25.93\n",
      "The percentage of vowels in sentence2 is: 33.33\n",
      "Sentence 1 has 7 vowels.\n",
      "Sentence 2 has 9 vowels.\n",
      "Sentence 2 has more vowels.\n"
     ]
    }
   ],
   "source": [
    "#24\n",
    "print(\"Enter sentence 1\")\n",
    "s1=input()\n",
    "print(\"Enter sentence 2\")\n",
    "s2=input()\n",
    "e1=s1.count(\"a\")+s1.count(\"e\")+s1.count(\"i\")+s1.count('o')+s1.count('u')\n",
    "e2=s2.count('a')+s2.count('e')+s2.count('i')+s2.count('o')+s2.count('u')\n",
    "p1=100/len(s1)*e1\n",
    "p2=100/len(s2)*e2\n",
    "p3=round(p1,2)\n",
    "p4=round(p2,2)\n",
    "print(\"The percentage of vowels in sentence1 is:\",p3)\n",
    "print(\"The percentage of vowels in sentence2 is:\",p4)\n",
    "print(\"Sentence 1 has\",e1,\"vowels.\")\n",
    "print(\"Sentence 2 has\",e2,\"vowels.\")\n",
    "if e1>e2:\n",
    "    print(\"Sentence 1 has more vowels.\")\n",
    "elif e2>e1:\n",
    "    print(\"Sentence 2 has more vowels.\")\n",
    "else:\n",
    "    print(\"Sentence 1 and S entence 2 has equal number of vowels\")"
   ]
  },
  {
   "cell_type": "code",
   "execution_count": 15,
   "id": "1337ec84",
   "metadata": {},
   "outputs": [
    {
     "name": "stdout",
     "output_type": "stream",
     "text": [
      "Would you like some advice?\n",
      "D\n",
      "Sorry,you were asked to enter Y or N.\n"
     ]
    }
   ],
   "source": [
    "#25\n",
    "print(\"Would you like some advice?\")\n",
    "a=input()\n",
    "if a!=\"Y\" or a!=\"N\":\n",
    "    print(\"Sorry,you were asked to enter Y or N.\")"
   ]
  },
  {
   "cell_type": "code",
   "execution_count": 18,
   "id": "2e88f587",
   "metadata": {},
   "outputs": [
    {
     "name": "stdout",
     "output_type": "stream",
     "text": [
      "Please enter the test speed (mph)\n",
      "50\n",
      "Please enter the tested stopping distance(m)\n",
      "39.7\n",
      "Your car failed the braking distance test\n"
     ]
    }
   ],
   "source": [
    "#26\n",
    "import math\n",
    "print(\"Please enter the test speed (mph)\")\n",
    "a=int(input())\n",
    "print(\"Please enter the tested stopping distance(m)\")\n",
    "b=float(input())\n",
    "c=math.ceil(b)\n",
    "if a==30 and c>14:\n",
    "    print(\"Your car failed the braking distance test\")\n",
    "elif a==50 and c>38:\n",
    "    print(\"Your car failed the braking distance test\")"
   ]
  },
  {
   "cell_type": "code",
   "execution_count": 19,
   "id": "ab99db11",
   "metadata": {},
   "outputs": [
    {
     "name": "stdout",
     "output_type": "stream",
     "text": [
      "Please enter the first amount raised\n",
      "740\n",
      "Please enter the second amount raised\n",
      "690\n",
      "Please enter the third amount raised\n",
      "1024\n",
      "A total of $ 2454 was raised.\n",
      "With the company bonus, this is $ 4454\n"
     ]
    }
   ],
   "source": [
    "#27\n",
    "print(\"Please enter the first amount raised\")\n",
    "a=int(input())\n",
    "print(\"Please enter the second amount raised\")\n",
    "b=int(input())\n",
    "print(\"Please enter the third amount raised\")\n",
    "c=int(input())\n",
    "d=a+b+c\n",
    "print(\"A total of $\",d,\"was raised.\")\n",
    "if d<1000:\n",
    "    e=d+100\n",
    "elif d>=1000 and d<=2000:\n",
    "    e=d*2\n",
    "elif d>2000:\n",
    "    e= 2*2000+(d-2000)\n",
    "print(\"With the company bonus, this is $\",e)\n"
   ]
  },
  {
   "cell_type": "code",
   "execution_count": 20,
   "id": "eb43d7e4",
   "metadata": {},
   "outputs": [
    {
     "name": "stdout",
     "output_type": "stream",
     "text": [
      "Which sentence would you like copied?\n",
      "Don't behave like a muppet in class.\n",
      "Don't behave like a muppet in class.\n",
      "Don't behave like a muppet in class.\n",
      "Don't behave like a muppet in class.\n",
      "Don't behave like a muppet in class.\n",
      "Don't behave like a muppet in class.\n",
      "Don't behave like a muppet in class.\n",
      "Don't behave like a muppet in class.\n",
      "Don't behave like a muppet in class.\n",
      "Don't behave like a muppet in class.\n",
      "Don't behave like a muppet in class.\n",
      "Don't behave like a muppet in class.\n",
      "Don't behave like a muppet in class.\n",
      "Don't behave like a muppet in class.\n",
      "Don't behave like a muppet in class.\n",
      "Don't behave like a muppet in class.\n",
      "Don't behave like a muppet in class.\n",
      "Don't behave like a muppet in class.\n",
      "Don't behave like a muppet in class.\n",
      "Don't behave like a muppet in class.\n",
      "Don't behave like a muppet in class.\n"
     ]
    }
   ],
   "source": [
    "#28\n",
    "print(\"Which sentence would you like copied?\")\n",
    "a=input()\n",
    "for loop in range(20):\n",
    "    print(a)"
   ]
  },
  {
   "cell_type": "code",
   "execution_count": 1,
   "id": "d1c7d085",
   "metadata": {},
   "outputs": [
    {
     "name": "stdout",
     "output_type": "stream",
     "text": [
      "Please enter the first amount raised.\n",
      "398\n",
      "Please enter the second amount raised.\n",
      "193\n",
      "Please enter the third amount raised.\n",
      "478\n",
      "A total of $ 1069 was raised\n",
      "This will be doubled to:\n",
      "$ 2138 !!!\n",
      "$ 2138 !!!\n",
      "$ 2138 !!!\n"
     ]
    }
   ],
   "source": [
    "#29\n",
    "print(\"Please enter the first amount raised.\")\n",
    "a=int(input())\n",
    "print(\"Please enter the second amount raised.\")\n",
    "b=int(input())\n",
    "print(\"Please enter the third amount raised.\")\n",
    "c=int(input())\n",
    "d=a+b+c\n",
    "print(\"A total of $\",d,\"was raised\")\n",
    "if d<1000:\n",
    "    e=d+100\n",
    "elif d>=1000 and d<=2000:\n",
    "    e=2*d\n",
    "elif d>2000:\n",
    "    e=2*2000+(d-2000)\n",
    "\n",
    "print(\"This will be doubled to:\")\n",
    "for loop in range(3):\n",
    "    print(\"$\",e,\"!!!\")"
   ]
  },
  {
   "cell_type": "code",
   "execution_count": 7,
   "id": "78ea3ffc",
   "metadata": {},
   "outputs": [
    {
     "name": "stdout",
     "output_type": "stream",
     "text": [
      "Please enter the first name:\n",
      "Matt\n",
      "Please enter surname:\n",
      "Reid\n",
      "M R MATT reid MattReid\n",
      "MattReid REID matt r m\n",
      "M R MATT reid MattReid\n",
      "MattReid REID matt r m\n",
      "M R MATT reid MattReid\n",
      "MattReid REID matt r m\n"
     ]
    }
   ],
   "source": [
    "#30\n",
    "print('Please enter the first name:')\n",
    "a=input()\n",
    "print(\"Please enter surname:\")\n",
    "b=input()\n",
    "x=a[0]\n",
    "y=b[0]\n",
    "c=a[0]+' '+b[0]+' '+a.upper()+' '+b.lower()+' '+a+b\n",
    "d=a+b+' '+b.upper()+' '+a.lower()+' '+y.lower()+' '+x.lower()\n",
    "for loop in range(0,6,2):\n",
    "    print(c)\n",
    "    print(d)\n"
   ]
  },
  {
   "cell_type": "code",
   "execution_count": 8,
   "id": "ceb257a1",
   "metadata": {},
   "outputs": [
    {
     "name": "stdout",
     "output_type": "stream",
     "text": [
      "Please enter the score for each ball.\n",
      "0\n",
      "2\n",
      "0\n",
      "0\n",
      "4\n",
      "6\n",
      "This over's score was: 12\n"
     ]
    }
   ],
   "source": [
    "#31\n",
    "print(\"Please enter the score for each ball.\")\n",
    "sum=0\n",
    "for loop in range(6):\n",
    "    a=int(input())\n",
    "    sum=sum+a\n",
    "print(\"This over's score was:\",sum)"
   ]
  },
  {
   "cell_type": "code",
   "execution_count": 9,
   "id": "1a7200b7",
   "metadata": {},
   "outputs": [
    {
     "name": "stdout",
     "output_type": "stream",
     "text": [
      "Please enter the seven temperatures.\n",
      "12\n",
      "14\n",
      "7\n",
      "6\n",
      "7\n",
      "11\n",
      "11\n",
      "This week's average was:\n",
      "9.71 degrees centigrade\n"
     ]
    }
   ],
   "source": [
    "#32\n",
    "print(\"Please enter the seven temperatures.\")\n",
    "sum=0\n",
    "for loop in range(7):\n",
    "    a=float(input())\n",
    "    sum=sum+a\n",
    "b=sum/7\n",
    "c=round(b,2)\n",
    "print(\"This week's average was:\")\n",
    "print(c,\"degrees centigrade\")"
   ]
  },
  {
   "cell_type": "code",
   "execution_count": 11,
   "id": "184183e8",
   "metadata": {},
   "outputs": [
    {
     "name": "stdout",
     "output_type": "stream",
     "text": [
      "Which sentence would you like copied?\n",
      "Mr Reid is the best teacher\n",
      "How many times would you like this copied?\n",
      "54\n",
      "Mr Reid is the best teacher\n",
      "Mr Reid is the best teacher\n",
      "Mr Reid is the best teacher\n",
      "Mr Reid is the best teacher\n",
      "Mr Reid is the best teacher\n",
      "Mr Reid is the best teacher\n",
      "Mr Reid is the best teacher\n",
      "Mr Reid is the best teacher\n",
      "Mr Reid is the best teacher\n",
      "Mr Reid is the best teacher\n",
      "Mr Reid is the best teacher\n",
      "Mr Reid is the best teacher\n",
      "Mr Reid is the best teacher\n",
      "Mr Reid is the best teacher\n",
      "Mr Reid is the best teacher\n",
      "Mr Reid is the best teacher\n",
      "Mr Reid is the best teacher\n",
      "Mr Reid is the best teacher\n",
      "Mr Reid is the best teacher\n",
      "Mr Reid is the best teacher\n",
      "Mr Reid is the best teacher\n",
      "Mr Reid is the best teacher\n",
      "Mr Reid is the best teacher\n",
      "Mr Reid is the best teacher\n",
      "Mr Reid is the best teacher\n",
      "Mr Reid is the best teacher\n",
      "Mr Reid is the best teacher\n",
      "Mr Reid is the best teacher\n",
      "Mr Reid is the best teacher\n",
      "Mr Reid is the best teacher\n",
      "Mr Reid is the best teacher\n",
      "Mr Reid is the best teacher\n",
      "Mr Reid is the best teacher\n",
      "Mr Reid is the best teacher\n",
      "Mr Reid is the best teacher\n",
      "Mr Reid is the best teacher\n",
      "Mr Reid is the best teacher\n",
      "Mr Reid is the best teacher\n",
      "Mr Reid is the best teacher\n",
      "Mr Reid is the best teacher\n",
      "Mr Reid is the best teacher\n",
      "Mr Reid is the best teacher\n",
      "Mr Reid is the best teacher\n",
      "Mr Reid is the best teacher\n",
      "Mr Reid is the best teacher\n",
      "Mr Reid is the best teacher\n",
      "Mr Reid is the best teacher\n",
      "Mr Reid is the best teacher\n",
      "Mr Reid is the best teacher\n",
      "Mr Reid is the best teacher\n",
      "Mr Reid is the best teacher\n",
      "Mr Reid is the best teacher\n",
      "Mr Reid is the best teacher\n",
      "Mr Reid is the best teacher\n"
     ]
    }
   ],
   "source": [
    "#33\n",
    "print(\"Which sentence would you like copied?\")\n",
    "a=input()\n",
    "print(\"How many times would you like this copied?\")\n",
    "b=int(input())\n",
    "for loop in range(b):\n",
    "    print(a)"
   ]
  },
  {
   "cell_type": "code",
   "execution_count": 12,
   "id": "107f3d32",
   "metadata": {},
   "outputs": [
    {
     "name": "stdout",
     "output_type": "stream",
     "text": [
      "How many charity raisers were there?\n",
      "6\n",
      "Enter the atotal raised by each:\n",
      "238\n",
      "624\n",
      "546\n",
      "333\n",
      "651\n",
      "174\n",
      "A total of $ 2566 was raised.\n",
      "This will be increased to:\n",
      "$ 4566 !!!\n",
      "$ 4566 !!!\n",
      "$ 4566 !!!\n"
     ]
    }
   ],
   "source": [
    "#34\n",
    "print(\"How many charity raisers were there?\")\n",
    "a=int(input())\n",
    "print(\"Enter the atotal raised by each:\")\n",
    "sum=0\n",
    "for loop in range(a):\n",
    "    b=int(input())\n",
    "    sum=sum+b\n",
    "if sum<1000:\n",
    "    d=sum+100\n",
    "elif sum>=1000 and sum<=2000:\n",
    "    d=sum*2\n",
    "elif sum>2000:\n",
    "    d=2*2000+(sum-2000)\n",
    "print(\"A total of $\",sum,\"was raised.\")\n",
    "print(\"This will be increased to:\")\n",
    "for loop in range(3):\n",
    "    print(\"$\",d,\"!!!\")"
   ]
  },
  {
   "cell_type": "code",
   "execution_count": 1,
   "id": "0530e163",
   "metadata": {},
   "outputs": [
    {
     "name": "stdout",
     "output_type": "stream",
     "text": [
      "Please enter the number of students:\n",
      "3\n",
      "Enter the time in seconds for each student\n",
      "Student 1\n",
      "82\n",
      "Student 2\n",
      "67\n",
      "Student 3\n",
      "45\n",
      "The average time for the 3 student was:\n",
      "64.67 seconds\n"
     ]
    }
   ],
   "source": [
    "#35\n",
    "print(\"Please enter the number of students:\")\n",
    "a=int(input())\n",
    "print(\"Enter the time in seconds for each student\")\n",
    "sum=0\n",
    "for loop in range(1,a+1):\n",
    "    print(\"Student\",loop)\n",
    "    b=int(input())\n",
    "    sum=sum+b\n",
    "p=sum/a\n",
    "d=round(p,2)\n",
    "print(\"The average time for the\",a,\"student was:\")\n",
    "print(d,\"seconds\")\n",
    "    "
   ]
  },
  {
   "cell_type": "code",
   "execution_count": 2,
   "id": "bd17124f",
   "metadata": {},
   "outputs": [
    {
     "name": "stdout",
     "output_type": "stream",
     "text": [
      "Odd Numbers List\n",
      "1\n",
      "3\n",
      "5\n",
      "7\n",
      "9\n",
      "11\n"
     ]
    }
   ],
   "source": [
    "#36\n",
    "print(\"Odd Numbers List\")\n",
    "for loop in range(1,12,2):\n",
    "    print(loop)"
   ]
  },
  {
   "cell_type": "code",
   "execution_count": 3,
   "id": "9efc5b5b",
   "metadata": {},
   "outputs": [
    {
     "name": "stdout",
     "output_type": "stream",
     "text": [
      "The following program will dispaly odd numbers.\n",
      "Enter the first number in the list\n",
      "5\n",
      "Enter the last number in the list\n",
      "13\n",
      "Odd Numbers List\n",
      "5\n",
      "7\n",
      "9\n",
      "11\n",
      "13\n"
     ]
    }
   ],
   "source": [
    "#37\n",
    "print(\"The following program will dispaly odd numbers.\")\n",
    "print(\"Enter the first number in the list\")\n",
    "a=int(input())\n",
    "print(\"Enter the last number in the list\")\n",
    "b=int(input())\n",
    "print(\"Odd Numbers List\")\n",
    "for loop in range(a,b+1,2):\n",
    "    print(loop)"
   ]
  },
  {
   "cell_type": "code",
   "execution_count": 1,
   "id": "322d0d10",
   "metadata": {},
   "outputs": [
    {
     "name": "stdout",
     "output_type": "stream",
     "text": [
      "Please enter the password.\n",
      "snool\n",
      "Sorry,incorrect! Try again.\n",
      "Please enter the password.\n",
      "ornery\n",
      "Entry gained!\n"
     ]
    }
   ],
   "source": [
    "#38\n",
    "p=\"ornery\"\n",
    "print(\"Please enter the password.\")\n",
    "a=input()\n",
    "while a!=p:\n",
    "    print(\"Sorry,incorrect! Try again.\")\n",
    "    print(\"Please enter the password.\")\n",
    "    a=input()\n",
    "print(\"Entry gained!\")"
   ]
  },
  {
   "cell_type": "code",
   "execution_count": 4,
   "id": "4f03d547",
   "metadata": {},
   "outputs": [
    {
     "name": "stdout",
     "output_type": "stream",
     "text": [
      "The following program will display odd numbers.\n",
      "Enter the first number  in the list\n",
      "5\n",
      "Enter the last number in the list\n",
      "17\n",
      "Sorry, the number must be at least 5+20\n",
      "Please re-enter the number\n",
      "27\n",
      "Odd Numbers List\n",
      "5\n",
      "7\n",
      "9\n",
      "11\n",
      "13\n",
      "15\n",
      "17\n",
      "19\n",
      "21\n",
      "23\n",
      "25\n"
     ]
    }
   ],
   "source": [
    "#39\n",
    "print(\"The following program will display odd numbers.\")\n",
    "print(\"Enter the first number  in the list\")\n",
    "a=int(input())\n",
    "print(\"Enter the last number in the list\")\n",
    "b=int(input())\n",
    "while b<=(a+20):\n",
    "    print(\"Sorry, the number must be at least\",str(a)+\"+20\")\n",
    "    print(\"Please re-enter the number\")\n",
    "    b=int(input())\n",
    "    print(\"Odd Numbers List\")\n",
    "for loop in range(a,b,2):\n",
    "    print(loop)"
   ]
  },
  {
   "cell_type": "code",
   "execution_count": null,
   "id": "4239d1c8",
   "metadata": {},
   "outputs": [],
   "source": []
  },
  {
   "cell_type": "code",
   "execution_count": null,
   "id": "09612c3b",
   "metadata": {},
   "outputs": [],
   "source": []
  }
 ],
 "metadata": {
  "kernelspec": {
   "display_name": "Python 3",
   "language": "python",
   "name": "python3"
  },
  "language_info": {
   "codemirror_mode": {
    "name": "ipython",
    "version": 3
   },
   "file_extension": ".py",
   "mimetype": "text/x-python",
   "name": "python",
   "nbconvert_exporter": "python",
   "pygments_lexer": "ipython3",
   "version": "3.8.8"
  }
 },
 "nbformat": 4,
 "nbformat_minor": 5
}
